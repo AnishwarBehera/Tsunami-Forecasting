{
 "cells": [
  {
   "cell_type": "code",
   "execution_count": 1,
   "id": "071b076e",
   "metadata": {
    "_cell_guid": "b1076dfc-b9ad-4769-8c92-a6c4dae69d19",
    "_uuid": "8f2839f25d086af736a60e9eeb907d3b93b6e0e5",
    "execution": {
     "iopub.execute_input": "2023-07-04T07:52:23.831425Z",
     "iopub.status.busy": "2023-07-04T07:52:23.830912Z",
     "iopub.status.idle": "2023-07-04T07:52:23.853187Z",
     "shell.execute_reply": "2023-07-04T07:52:23.852058Z"
    },
    "papermill": {
     "duration": 0.042934,
     "end_time": "2023-07-04T07:52:23.855994",
     "exception": false,
     "start_time": "2023-07-04T07:52:23.813060",
     "status": "completed"
    },
    "tags": []
   },
   "outputs": [],
   "source": [
    "# # This Python 3 environment comes with many helpful analytics libraries installed\n",
    "# # It is defined by the kaggle/python Docker image: https://github.com/kaggle/docker-python\n",
    "# # For example, here's several helpful packages to load\n",
    "\n",
    "# import numpy as np # linear algebra\n",
    "# import pandas as pd # data processing, CSV file I/O (e.g. pd.read_csv)\n",
    "\n",
    "# # Input data files are available in the read-only \"../input/\" directory\n",
    "# # For example, running this (by clicking run or pressing Shift+Enter) will list all files under the input directory\n",
    "\n",
    "# import os\n",
    "# for dirname, _, filenames in os.walk('/kaggle/input'):\n",
    "#     for filename in filenames:\n",
    "#         print(os.path.join(dirname, filename))\n",
    "\n",
    "# # You can write up to 20GB to the current directory (/kaggle/working/) that gets preserved as output when you create a version using \"Save & Run All\" \n",
    "# # You can also write temporary files to /kaggle/temp/, but they won't be saved outside of the current session"
   ]
  },
  {
   "cell_type": "code",
   "execution_count": 2,
   "id": "829b7f44",
   "metadata": {},
   "outputs": [],
   "source": [
    "import numpy as np \n",
    "import pandas as pd"
   ]
  },
  {
   "cell_type": "code",
   "execution_count": 3,
   "id": "707fc90a",
   "metadata": {
    "execution": {
     "iopub.execute_input": "2023-07-04T07:52:23.888992Z",
     "iopub.status.busy": "2023-07-04T07:52:23.888181Z",
     "iopub.status.idle": "2023-07-04T07:52:23.893270Z",
     "shell.execute_reply": "2023-07-04T07:52:23.892403Z"
    },
    "papermill": {
     "duration": 0.026703,
     "end_time": "2023-07-04T07:52:23.898138",
     "exception": false,
     "start_time": "2023-07-04T07:52:23.871435",
     "status": "completed"
    },
    "tags": []
   },
   "outputs": [],
   "source": [
    "import warnings\n",
    "warnings.filterwarnings('ignore')"
   ]
  },
  {
   "cell_type": "code",
   "execution_count": 4,
   "id": "2b484e15",
   "metadata": {
    "execution": {
     "iopub.execute_input": "2023-07-04T07:52:23.932113Z",
     "iopub.status.busy": "2023-07-04T07:52:23.931358Z",
     "iopub.status.idle": "2023-07-04T07:52:23.937459Z",
     "shell.execute_reply": "2023-07-04T07:52:23.936561Z"
    },
    "papermill": {
     "duration": 0.025408,
     "end_time": "2023-07-04T07:52:23.939868",
     "exception": false,
     "start_time": "2023-07-04T07:52:23.914460",
     "status": "completed"
    },
    "tags": []
   },
   "outputs": [],
   "source": [
    "# title: title name given to the earthquake\n",
    "# magnitude: The magnitude of the earthquake\n",
    "# date_time: date and time\n",
    "# cdi: The maximum reported intensity for the event range\n",
    "# mmi: The maximum estimated instrumental intensity for the event\n",
    "# alert: The alert level - “green”, “yellow”, “orange”, and “red”\n",
    "# tsunami: \"1\" for events in oceanic regions and \"0\" otherwise\n",
    "# sig: A number describing how significant the event is. Larger numbers indicate a more significant event. This value is determined on a number of factors, including: magnitude, maximum MMI, felt reports, and estimated impact\n",
    "# net: The ID of a data contributor. Identifies the network considered to be the preferred source of information for this event.\n",
    "# nst: The total number of seismic stations used to determine earthquake location.\n",
    "# dmin: Horizontal distance from the epicenter to the nearest station\n",
    "# gap: The largest azimuthal gap between azimuthally adjacent stations (in degrees). In general, the smaller this number, the more reliable is the calculated horizontal position of the earthquake. Earthquake locations in which the azimuthal gap exceeds 180 degrees typically have large location and depth uncertainties\n",
    "# magType: The method or algorithm used to calculate the preferred magnitude for the event\n",
    "# depth: The depth where the earthquake begins to rupture\n",
    "# latitude / longitude: coordinate system by means of which the position or location of any place on Earth's surface can be determined and described\n",
    "# location: location within the country\n",
    "# continent: continent of the earthquake hit country\n",
    "# country: affected country"
   ]
  },
  {
   "cell_type": "code",
   "execution_count": 5,
   "id": "590baa88",
   "metadata": {
    "execution": {
     "iopub.execute_input": "2023-07-04T07:52:23.972924Z",
     "iopub.status.busy": "2023-07-04T07:52:23.972110Z",
     "iopub.status.idle": "2023-07-04T07:52:24.004331Z",
     "shell.execute_reply": "2023-07-04T07:52:24.003348Z"
    },
    "papermill": {
     "duration": 0.05196,
     "end_time": "2023-07-04T07:52:24.007004",
     "exception": false,
     "start_time": "2023-07-04T07:52:23.955044",
     "status": "completed"
    },
    "tags": []
   },
   "outputs": [],
   "source": [
    "df=pd.read_csv('earthquake_data.csv')"
   ]
  },
  {
   "cell_type": "markdown",
   "id": "7dd5fd2f",
   "metadata": {
    "papermill": {
     "duration": 0.014601,
     "end_time": "2023-07-04T07:52:24.037463",
     "exception": false,
     "start_time": "2023-07-04T07:52:24.022862",
     "status": "completed"
    },
    "tags": []
   },
   "source": [
    "# INFO"
   ]
  },
  {
   "cell_type": "code",
   "execution_count": 6,
   "id": "a6934063",
   "metadata": {
    "execution": {
     "iopub.execute_input": "2023-07-04T07:52:24.071291Z",
     "iopub.status.busy": "2023-07-04T07:52:24.070141Z",
     "iopub.status.idle": "2023-07-04T07:52:24.116941Z",
     "shell.execute_reply": "2023-07-04T07:52:24.115690Z"
    },
    "papermill": {
     "duration": 0.067118,
     "end_time": "2023-07-04T07:52:24.119702",
     "exception": false,
     "start_time": "2023-07-04T07:52:24.052584",
     "status": "completed"
    },
    "tags": []
   },
   "outputs": [
    {
     "data": {
      "text/html": [
       "<div>\n",
       "<style scoped>\n",
       "    .dataframe tbody tr th:only-of-type {\n",
       "        vertical-align: middle;\n",
       "    }\n",
       "\n",
       "    .dataframe tbody tr th {\n",
       "        vertical-align: top;\n",
       "    }\n",
       "\n",
       "    .dataframe thead th {\n",
       "        text-align: right;\n",
       "    }\n",
       "</style>\n",
       "<table border=\"1\" class=\"dataframe\">\n",
       "  <thead>\n",
       "    <tr style=\"text-align: right;\">\n",
       "      <th></th>\n",
       "      <th>title</th>\n",
       "      <th>magnitude</th>\n",
       "      <th>date_time</th>\n",
       "      <th>cdi</th>\n",
       "      <th>mmi</th>\n",
       "      <th>alert</th>\n",
       "      <th>tsunami</th>\n",
       "      <th>sig</th>\n",
       "      <th>net</th>\n",
       "      <th>nst</th>\n",
       "      <th>dmin</th>\n",
       "      <th>gap</th>\n",
       "      <th>magType</th>\n",
       "      <th>depth</th>\n",
       "      <th>latitude</th>\n",
       "      <th>longitude</th>\n",
       "      <th>location</th>\n",
       "      <th>continent</th>\n",
       "      <th>country</th>\n",
       "    </tr>\n",
       "  </thead>\n",
       "  <tbody>\n",
       "    <tr>\n",
       "      <th>0</th>\n",
       "      <td>M 7.0 - 18 km SW of Malango, Solomon Islands</td>\n",
       "      <td>7.0</td>\n",
       "      <td>22-11-2022 02:03</td>\n",
       "      <td>8</td>\n",
       "      <td>7</td>\n",
       "      <td>green</td>\n",
       "      <td>1</td>\n",
       "      <td>768</td>\n",
       "      <td>us</td>\n",
       "      <td>117</td>\n",
       "      <td>0.509</td>\n",
       "      <td>17.0</td>\n",
       "      <td>mww</td>\n",
       "      <td>14.000</td>\n",
       "      <td>-9.7963</td>\n",
       "      <td>159.596</td>\n",
       "      <td>Malango, Solomon Islands</td>\n",
       "      <td>Oceania</td>\n",
       "      <td>Solomon Islands</td>\n",
       "    </tr>\n",
       "    <tr>\n",
       "      <th>1</th>\n",
       "      <td>M 6.9 - 204 km SW of Bengkulu, Indonesia</td>\n",
       "      <td>6.9</td>\n",
       "      <td>18-11-2022 13:37</td>\n",
       "      <td>4</td>\n",
       "      <td>4</td>\n",
       "      <td>green</td>\n",
       "      <td>0</td>\n",
       "      <td>735</td>\n",
       "      <td>us</td>\n",
       "      <td>99</td>\n",
       "      <td>2.229</td>\n",
       "      <td>34.0</td>\n",
       "      <td>mww</td>\n",
       "      <td>25.000</td>\n",
       "      <td>-4.9559</td>\n",
       "      <td>100.738</td>\n",
       "      <td>Bengkulu, Indonesia</td>\n",
       "      <td>NaN</td>\n",
       "      <td>NaN</td>\n",
       "    </tr>\n",
       "    <tr>\n",
       "      <th>2</th>\n",
       "      <td>M 7.0 -</td>\n",
       "      <td>7.0</td>\n",
       "      <td>12-11-2022 07:09</td>\n",
       "      <td>3</td>\n",
       "      <td>3</td>\n",
       "      <td>green</td>\n",
       "      <td>1</td>\n",
       "      <td>755</td>\n",
       "      <td>us</td>\n",
       "      <td>147</td>\n",
       "      <td>3.125</td>\n",
       "      <td>18.0</td>\n",
       "      <td>mww</td>\n",
       "      <td>579.000</td>\n",
       "      <td>-20.0508</td>\n",
       "      <td>-178.346</td>\n",
       "      <td>NaN</td>\n",
       "      <td>Oceania</td>\n",
       "      <td>Fiji</td>\n",
       "    </tr>\n",
       "    <tr>\n",
       "      <th>3</th>\n",
       "      <td>M 7.3 - 205 km ESE of Neiafu, Tonga</td>\n",
       "      <td>7.3</td>\n",
       "      <td>11-11-2022 10:48</td>\n",
       "      <td>5</td>\n",
       "      <td>5</td>\n",
       "      <td>green</td>\n",
       "      <td>1</td>\n",
       "      <td>833</td>\n",
       "      <td>us</td>\n",
       "      <td>149</td>\n",
       "      <td>1.865</td>\n",
       "      <td>21.0</td>\n",
       "      <td>mww</td>\n",
       "      <td>37.000</td>\n",
       "      <td>-19.2918</td>\n",
       "      <td>-172.129</td>\n",
       "      <td>Neiafu, Tonga</td>\n",
       "      <td>NaN</td>\n",
       "      <td>NaN</td>\n",
       "    </tr>\n",
       "    <tr>\n",
       "      <th>4</th>\n",
       "      <td>M 6.6 -</td>\n",
       "      <td>6.6</td>\n",
       "      <td>09-11-2022 10:14</td>\n",
       "      <td>0</td>\n",
       "      <td>2</td>\n",
       "      <td>green</td>\n",
       "      <td>1</td>\n",
       "      <td>670</td>\n",
       "      <td>us</td>\n",
       "      <td>131</td>\n",
       "      <td>4.998</td>\n",
       "      <td>27.0</td>\n",
       "      <td>mww</td>\n",
       "      <td>624.464</td>\n",
       "      <td>-25.5948</td>\n",
       "      <td>178.278</td>\n",
       "      <td>NaN</td>\n",
       "      <td>NaN</td>\n",
       "      <td>NaN</td>\n",
       "    </tr>\n",
       "  </tbody>\n",
       "</table>\n",
       "</div>"
      ],
      "text/plain": [
       "                                          title  magnitude         date_time  \\\n",
       "0  M 7.0 - 18 km SW of Malango, Solomon Islands        7.0  22-11-2022 02:03   \n",
       "1      M 6.9 - 204 km SW of Bengkulu, Indonesia        6.9  18-11-2022 13:37   \n",
       "2                                      M 7.0 -         7.0  12-11-2022 07:09   \n",
       "3           M 7.3 - 205 km ESE of Neiafu, Tonga        7.3  11-11-2022 10:48   \n",
       "4                                      M 6.6 -         6.6  09-11-2022 10:14   \n",
       "\n",
       "   cdi  mmi  alert  tsunami  sig net  nst   dmin   gap magType    depth  \\\n",
       "0    8    7  green        1  768  us  117  0.509  17.0     mww   14.000   \n",
       "1    4    4  green        0  735  us   99  2.229  34.0     mww   25.000   \n",
       "2    3    3  green        1  755  us  147  3.125  18.0     mww  579.000   \n",
       "3    5    5  green        1  833  us  149  1.865  21.0     mww   37.000   \n",
       "4    0    2  green        1  670  us  131  4.998  27.0     mww  624.464   \n",
       "\n",
       "   latitude  longitude                  location continent          country  \n",
       "0   -9.7963    159.596  Malango, Solomon Islands   Oceania  Solomon Islands  \n",
       "1   -4.9559    100.738       Bengkulu, Indonesia       NaN              NaN  \n",
       "2  -20.0508   -178.346                       NaN   Oceania             Fiji  \n",
       "3  -19.2918   -172.129             Neiafu, Tonga       NaN              NaN  \n",
       "4  -25.5948    178.278                       NaN       NaN              NaN  "
      ]
     },
     "execution_count": 6,
     "metadata": {},
     "output_type": "execute_result"
    }
   ],
   "source": [
    "df.head()"
   ]
  },
  {
   "cell_type": "code",
   "execution_count": 7,
   "id": "a11aea3e",
   "metadata": {
    "execution": {
     "iopub.execute_input": "2023-07-04T07:52:24.152467Z",
     "iopub.status.busy": "2023-07-04T07:52:24.152026Z",
     "iopub.status.idle": "2023-07-04T07:52:24.184476Z",
     "shell.execute_reply": "2023-07-04T07:52:24.183253Z"
    },
    "papermill": {
     "duration": 0.051969,
     "end_time": "2023-07-04T07:52:24.187270",
     "exception": false,
     "start_time": "2023-07-04T07:52:24.135301",
     "status": "completed"
    },
    "tags": []
   },
   "outputs": [
    {
     "name": "stdout",
     "output_type": "stream",
     "text": [
      "<class 'pandas.core.frame.DataFrame'>\n",
      "RangeIndex: 782 entries, 0 to 781\n",
      "Data columns (total 19 columns):\n",
      " #   Column     Non-Null Count  Dtype  \n",
      "---  ------     --------------  -----  \n",
      " 0   title      782 non-null    object \n",
      " 1   magnitude  782 non-null    float64\n",
      " 2   date_time  782 non-null    object \n",
      " 3   cdi        782 non-null    int64  \n",
      " 4   mmi        782 non-null    int64  \n",
      " 5   alert      415 non-null    object \n",
      " 6   tsunami    782 non-null    int64  \n",
      " 7   sig        782 non-null    int64  \n",
      " 8   net        782 non-null    object \n",
      " 9   nst        782 non-null    int64  \n",
      " 10  dmin       782 non-null    float64\n",
      " 11  gap        782 non-null    float64\n",
      " 12  magType    782 non-null    object \n",
      " 13  depth      782 non-null    float64\n",
      " 14  latitude   782 non-null    float64\n",
      " 15  longitude  782 non-null    float64\n",
      " 16  location   777 non-null    object \n",
      " 17  continent  206 non-null    object \n",
      " 18  country    484 non-null    object \n",
      "dtypes: float64(6), int64(5), object(8)\n",
      "memory usage: 116.2+ KB\n"
     ]
    }
   ],
   "source": [
    "df.info()"
   ]
  },
  {
   "cell_type": "code",
   "execution_count": 8,
   "id": "8e61b614",
   "metadata": {
    "execution": {
     "iopub.execute_input": "2023-07-04T07:52:24.221154Z",
     "iopub.status.busy": "2023-07-04T07:52:24.220762Z",
     "iopub.status.idle": "2023-07-04T07:52:24.274343Z",
     "shell.execute_reply": "2023-07-04T07:52:24.273103Z"
    },
    "papermill": {
     "duration": 0.073478,
     "end_time": "2023-07-04T07:52:24.277140",
     "exception": false,
     "start_time": "2023-07-04T07:52:24.203662",
     "status": "completed"
    },
    "tags": []
   },
   "outputs": [
    {
     "data": {
      "text/html": [
       "<div>\n",
       "<style scoped>\n",
       "    .dataframe tbody tr th:only-of-type {\n",
       "        vertical-align: middle;\n",
       "    }\n",
       "\n",
       "    .dataframe tbody tr th {\n",
       "        vertical-align: top;\n",
       "    }\n",
       "\n",
       "    .dataframe thead th {\n",
       "        text-align: right;\n",
       "    }\n",
       "</style>\n",
       "<table border=\"1\" class=\"dataframe\">\n",
       "  <thead>\n",
       "    <tr style=\"text-align: right;\">\n",
       "      <th></th>\n",
       "      <th>magnitude</th>\n",
       "      <th>cdi</th>\n",
       "      <th>mmi</th>\n",
       "      <th>tsunami</th>\n",
       "      <th>sig</th>\n",
       "      <th>nst</th>\n",
       "      <th>dmin</th>\n",
       "      <th>gap</th>\n",
       "      <th>depth</th>\n",
       "      <th>latitude</th>\n",
       "      <th>longitude</th>\n",
       "    </tr>\n",
       "  </thead>\n",
       "  <tbody>\n",
       "    <tr>\n",
       "      <th>count</th>\n",
       "      <td>782.000000</td>\n",
       "      <td>782.000000</td>\n",
       "      <td>782.000000</td>\n",
       "      <td>782.000000</td>\n",
       "      <td>782.000000</td>\n",
       "      <td>782.000000</td>\n",
       "      <td>782.000000</td>\n",
       "      <td>782.000000</td>\n",
       "      <td>782.000000</td>\n",
       "      <td>782.000000</td>\n",
       "      <td>782.000000</td>\n",
       "    </tr>\n",
       "    <tr>\n",
       "      <th>mean</th>\n",
       "      <td>6.941125</td>\n",
       "      <td>4.333760</td>\n",
       "      <td>5.964194</td>\n",
       "      <td>0.388747</td>\n",
       "      <td>870.108696</td>\n",
       "      <td>230.250639</td>\n",
       "      <td>1.325757</td>\n",
       "      <td>25.038990</td>\n",
       "      <td>75.883199</td>\n",
       "      <td>3.538100</td>\n",
       "      <td>52.609199</td>\n",
       "    </tr>\n",
       "    <tr>\n",
       "      <th>std</th>\n",
       "      <td>0.445514</td>\n",
       "      <td>3.169939</td>\n",
       "      <td>1.462724</td>\n",
       "      <td>0.487778</td>\n",
       "      <td>322.465367</td>\n",
       "      <td>250.188177</td>\n",
       "      <td>2.218805</td>\n",
       "      <td>24.225067</td>\n",
       "      <td>137.277078</td>\n",
       "      <td>27.303429</td>\n",
       "      <td>117.898886</td>\n",
       "    </tr>\n",
       "    <tr>\n",
       "      <th>min</th>\n",
       "      <td>6.500000</td>\n",
       "      <td>0.000000</td>\n",
       "      <td>1.000000</td>\n",
       "      <td>0.000000</td>\n",
       "      <td>650.000000</td>\n",
       "      <td>0.000000</td>\n",
       "      <td>0.000000</td>\n",
       "      <td>0.000000</td>\n",
       "      <td>2.700000</td>\n",
       "      <td>-61.848400</td>\n",
       "      <td>-179.968000</td>\n",
       "    </tr>\n",
       "    <tr>\n",
       "      <th>25%</th>\n",
       "      <td>6.600000</td>\n",
       "      <td>0.000000</td>\n",
       "      <td>5.000000</td>\n",
       "      <td>0.000000</td>\n",
       "      <td>691.000000</td>\n",
       "      <td>0.000000</td>\n",
       "      <td>0.000000</td>\n",
       "      <td>14.625000</td>\n",
       "      <td>14.000000</td>\n",
       "      <td>-14.595600</td>\n",
       "      <td>-71.668050</td>\n",
       "    </tr>\n",
       "    <tr>\n",
       "      <th>50%</th>\n",
       "      <td>6.800000</td>\n",
       "      <td>5.000000</td>\n",
       "      <td>6.000000</td>\n",
       "      <td>0.000000</td>\n",
       "      <td>754.000000</td>\n",
       "      <td>140.000000</td>\n",
       "      <td>0.000000</td>\n",
       "      <td>20.000000</td>\n",
       "      <td>26.295000</td>\n",
       "      <td>-2.572500</td>\n",
       "      <td>109.426000</td>\n",
       "    </tr>\n",
       "    <tr>\n",
       "      <th>75%</th>\n",
       "      <td>7.100000</td>\n",
       "      <td>7.000000</td>\n",
       "      <td>7.000000</td>\n",
       "      <td>1.000000</td>\n",
       "      <td>909.750000</td>\n",
       "      <td>445.000000</td>\n",
       "      <td>1.863000</td>\n",
       "      <td>30.000000</td>\n",
       "      <td>49.750000</td>\n",
       "      <td>24.654500</td>\n",
       "      <td>148.941000</td>\n",
       "    </tr>\n",
       "    <tr>\n",
       "      <th>max</th>\n",
       "      <td>9.100000</td>\n",
       "      <td>9.000000</td>\n",
       "      <td>9.000000</td>\n",
       "      <td>1.000000</td>\n",
       "      <td>2910.000000</td>\n",
       "      <td>934.000000</td>\n",
       "      <td>17.654000</td>\n",
       "      <td>239.000000</td>\n",
       "      <td>670.810000</td>\n",
       "      <td>71.631200</td>\n",
       "      <td>179.662000</td>\n",
       "    </tr>\n",
       "  </tbody>\n",
       "</table>\n",
       "</div>"
      ],
      "text/plain": [
       "        magnitude         cdi         mmi     tsunami          sig  \\\n",
       "count  782.000000  782.000000  782.000000  782.000000   782.000000   \n",
       "mean     6.941125    4.333760    5.964194    0.388747   870.108696   \n",
       "std      0.445514    3.169939    1.462724    0.487778   322.465367   \n",
       "min      6.500000    0.000000    1.000000    0.000000   650.000000   \n",
       "25%      6.600000    0.000000    5.000000    0.000000   691.000000   \n",
       "50%      6.800000    5.000000    6.000000    0.000000   754.000000   \n",
       "75%      7.100000    7.000000    7.000000    1.000000   909.750000   \n",
       "max      9.100000    9.000000    9.000000    1.000000  2910.000000   \n",
       "\n",
       "              nst        dmin         gap       depth    latitude   longitude  \n",
       "count  782.000000  782.000000  782.000000  782.000000  782.000000  782.000000  \n",
       "mean   230.250639    1.325757   25.038990   75.883199    3.538100   52.609199  \n",
       "std    250.188177    2.218805   24.225067  137.277078   27.303429  117.898886  \n",
       "min      0.000000    0.000000    0.000000    2.700000  -61.848400 -179.968000  \n",
       "25%      0.000000    0.000000   14.625000   14.000000  -14.595600  -71.668050  \n",
       "50%    140.000000    0.000000   20.000000   26.295000   -2.572500  109.426000  \n",
       "75%    445.000000    1.863000   30.000000   49.750000   24.654500  148.941000  \n",
       "max    934.000000   17.654000  239.000000  670.810000   71.631200  179.662000  "
      ]
     },
     "execution_count": 8,
     "metadata": {},
     "output_type": "execute_result"
    }
   ],
   "source": [
    "df.describe()"
   ]
  },
  {
   "cell_type": "code",
   "execution_count": 9,
   "id": "720515d9",
   "metadata": {
    "execution": {
     "iopub.execute_input": "2023-07-04T07:52:24.311473Z",
     "iopub.status.busy": "2023-07-04T07:52:24.311059Z",
     "iopub.status.idle": "2023-07-04T07:52:24.324692Z",
     "shell.execute_reply": "2023-07-04T07:52:24.323366Z"
    },
    "papermill": {
     "duration": 0.034462,
     "end_time": "2023-07-04T07:52:24.327741",
     "exception": false,
     "start_time": "2023-07-04T07:52:24.293279",
     "status": "completed"
    },
    "tags": []
   },
   "outputs": [
    {
     "data": {
      "text/plain": [
       "title         0.000000\n",
       "magnitude     0.000000\n",
       "date_time     0.000000\n",
       "cdi           0.000000\n",
       "mmi           0.000000\n",
       "alert        46.930946\n",
       "tsunami       0.000000\n",
       "sig           0.000000\n",
       "net           0.000000\n",
       "nst           0.000000\n",
       "dmin          0.000000\n",
       "gap           0.000000\n",
       "magType       0.000000\n",
       "depth         0.000000\n",
       "latitude      0.000000\n",
       "longitude     0.000000\n",
       "location      0.639386\n",
       "continent    73.657289\n",
       "country      38.107417\n",
       "dtype: float64"
      ]
     },
     "execution_count": 9,
     "metadata": {},
     "output_type": "execute_result"
    }
   ],
   "source": [
    "df.isnull().sum()/df.shape[0]*100\n",
    "#continent,country,alert have 73%,38%,46% null values\n",
    "#we can drop continenet(too much null values)\n",
    "#we have latitude and longitude so we can drop location\n",
    "#alert is a unnecessary data"
   ]
  },
  {
   "cell_type": "code",
   "execution_count": 10,
   "id": "6fa5b736",
   "metadata": {
    "execution": {
     "iopub.execute_input": "2023-07-04T07:52:24.365520Z",
     "iopub.status.busy": "2023-07-04T07:52:24.364767Z",
     "iopub.status.idle": "2023-07-04T07:52:24.371633Z",
     "shell.execute_reply": "2023-07-04T07:52:24.370584Z"
    },
    "papermill": {
     "duration": 0.028902,
     "end_time": "2023-07-04T07:52:24.374226",
     "exception": false,
     "start_time": "2023-07-04T07:52:24.345324",
     "status": "completed"
    },
    "tags": []
   },
   "outputs": [
    {
     "data": {
      "text/plain": [
       "Index(['title', 'magnitude', 'date_time', 'cdi', 'mmi', 'alert', 'tsunami',\n",
       "       'sig', 'net', 'nst', 'dmin', 'gap', 'magType', 'depth', 'latitude',\n",
       "       'longitude', 'location', 'continent', 'country'],\n",
       "      dtype='object')"
      ]
     },
     "execution_count": 10,
     "metadata": {},
     "output_type": "execute_result"
    }
   ],
   "source": [
    "df.columns"
   ]
  },
  {
   "cell_type": "markdown",
   "id": "4c126757",
   "metadata": {
    "papermill": {
     "duration": 0.0163,
     "end_time": "2023-07-04T07:52:24.408047",
     "exception": false,
     "start_time": "2023-07-04T07:52:24.391747",
     "status": "completed"
    },
    "tags": []
   },
   "source": [
    "# DROPING UNNECESSARY DATA"
   ]
  },
  {
   "cell_type": "code",
   "execution_count": 11,
   "id": "60825fee",
   "metadata": {
    "execution": {
     "iopub.execute_input": "2023-07-04T07:52:24.444033Z",
     "iopub.status.busy": "2023-07-04T07:52:24.443216Z",
     "iopub.status.idle": "2023-07-04T07:52:24.452059Z",
     "shell.execute_reply": "2023-07-04T07:52:24.450977Z"
    },
    "papermill": {
     "duration": 0.029878,
     "end_time": "2023-07-04T07:52:24.454956",
     "exception": false,
     "start_time": "2023-07-04T07:52:24.425078",
     "status": "completed"
    },
    "tags": []
   },
   "outputs": [],
   "source": [
    "df.drop(['title', 'continent', 'alert','location'],axis=1,inplace=True)"
   ]
  },
  {
   "cell_type": "code",
   "execution_count": 12,
   "id": "59b9114f",
   "metadata": {
    "execution": {
     "iopub.execute_input": "2023-07-04T07:52:24.491914Z",
     "iopub.status.busy": "2023-07-04T07:52:24.491205Z",
     "iopub.status.idle": "2023-07-04T07:52:24.596442Z",
     "shell.execute_reply": "2023-07-04T07:52:24.595449Z"
    },
    "papermill": {
     "duration": 0.127701,
     "end_time": "2023-07-04T07:52:24.599034",
     "exception": false,
     "start_time": "2023-07-04T07:52:24.471333",
     "status": "completed"
    },
    "tags": []
   },
   "outputs": [],
   "source": [
    "df['date_time']=pd.to_datetime(df['date_time'])\n",
    "df['Year']=pd.DatetimeIndex(df[\"date_time\"]).year\n",
    "df['Month']=pd.DatetimeIndex(df[\"date_time\"]).month\n",
    "df.drop('date_time',axis=1,inplace=True)"
   ]
  },
  {
   "cell_type": "code",
   "execution_count": 13,
   "id": "aed35499",
   "metadata": {
    "execution": {
     "iopub.execute_input": "2023-07-04T07:52:24.634046Z",
     "iopub.status.busy": "2023-07-04T07:52:24.633632Z",
     "iopub.status.idle": "2023-07-04T07:52:24.654711Z",
     "shell.execute_reply": "2023-07-04T07:52:24.653147Z"
    },
    "papermill": {
     "duration": 0.041413,
     "end_time": "2023-07-04T07:52:24.657232",
     "exception": false,
     "start_time": "2023-07-04T07:52:24.615819",
     "status": "completed"
    },
    "tags": []
   },
   "outputs": [
    {
     "data": {
      "text/html": [
       "<div>\n",
       "<style scoped>\n",
       "    .dataframe tbody tr th:only-of-type {\n",
       "        vertical-align: middle;\n",
       "    }\n",
       "\n",
       "    .dataframe tbody tr th {\n",
       "        vertical-align: top;\n",
       "    }\n",
       "\n",
       "    .dataframe thead th {\n",
       "        text-align: right;\n",
       "    }\n",
       "</style>\n",
       "<table border=\"1\" class=\"dataframe\">\n",
       "  <thead>\n",
       "    <tr style=\"text-align: right;\">\n",
       "      <th></th>\n",
       "      <th>magnitude</th>\n",
       "      <th>cdi</th>\n",
       "      <th>mmi</th>\n",
       "      <th>tsunami</th>\n",
       "      <th>sig</th>\n",
       "      <th>net</th>\n",
       "      <th>nst</th>\n",
       "      <th>dmin</th>\n",
       "      <th>gap</th>\n",
       "      <th>magType</th>\n",
       "      <th>depth</th>\n",
       "      <th>latitude</th>\n",
       "      <th>longitude</th>\n",
       "      <th>country</th>\n",
       "      <th>Year</th>\n",
       "      <th>Month</th>\n",
       "    </tr>\n",
       "  </thead>\n",
       "  <tbody>\n",
       "    <tr>\n",
       "      <th>0</th>\n",
       "      <td>7.0</td>\n",
       "      <td>8</td>\n",
       "      <td>7</td>\n",
       "      <td>1</td>\n",
       "      <td>768</td>\n",
       "      <td>us</td>\n",
       "      <td>117</td>\n",
       "      <td>0.509</td>\n",
       "      <td>17.0</td>\n",
       "      <td>mww</td>\n",
       "      <td>14.000</td>\n",
       "      <td>-9.7963</td>\n",
       "      <td>159.596</td>\n",
       "      <td>Solomon Islands</td>\n",
       "      <td>2022</td>\n",
       "      <td>11</td>\n",
       "    </tr>\n",
       "    <tr>\n",
       "      <th>1</th>\n",
       "      <td>6.9</td>\n",
       "      <td>4</td>\n",
       "      <td>4</td>\n",
       "      <td>0</td>\n",
       "      <td>735</td>\n",
       "      <td>us</td>\n",
       "      <td>99</td>\n",
       "      <td>2.229</td>\n",
       "      <td>34.0</td>\n",
       "      <td>mww</td>\n",
       "      <td>25.000</td>\n",
       "      <td>-4.9559</td>\n",
       "      <td>100.738</td>\n",
       "      <td>NaN</td>\n",
       "      <td>2022</td>\n",
       "      <td>11</td>\n",
       "    </tr>\n",
       "    <tr>\n",
       "      <th>2</th>\n",
       "      <td>7.0</td>\n",
       "      <td>3</td>\n",
       "      <td>3</td>\n",
       "      <td>1</td>\n",
       "      <td>755</td>\n",
       "      <td>us</td>\n",
       "      <td>147</td>\n",
       "      <td>3.125</td>\n",
       "      <td>18.0</td>\n",
       "      <td>mww</td>\n",
       "      <td>579.000</td>\n",
       "      <td>-20.0508</td>\n",
       "      <td>-178.346</td>\n",
       "      <td>Fiji</td>\n",
       "      <td>2022</td>\n",
       "      <td>12</td>\n",
       "    </tr>\n",
       "    <tr>\n",
       "      <th>3</th>\n",
       "      <td>7.3</td>\n",
       "      <td>5</td>\n",
       "      <td>5</td>\n",
       "      <td>1</td>\n",
       "      <td>833</td>\n",
       "      <td>us</td>\n",
       "      <td>149</td>\n",
       "      <td>1.865</td>\n",
       "      <td>21.0</td>\n",
       "      <td>mww</td>\n",
       "      <td>37.000</td>\n",
       "      <td>-19.2918</td>\n",
       "      <td>-172.129</td>\n",
       "      <td>NaN</td>\n",
       "      <td>2022</td>\n",
       "      <td>11</td>\n",
       "    </tr>\n",
       "    <tr>\n",
       "      <th>4</th>\n",
       "      <td>6.6</td>\n",
       "      <td>0</td>\n",
       "      <td>2</td>\n",
       "      <td>1</td>\n",
       "      <td>670</td>\n",
       "      <td>us</td>\n",
       "      <td>131</td>\n",
       "      <td>4.998</td>\n",
       "      <td>27.0</td>\n",
       "      <td>mww</td>\n",
       "      <td>624.464</td>\n",
       "      <td>-25.5948</td>\n",
       "      <td>178.278</td>\n",
       "      <td>NaN</td>\n",
       "      <td>2022</td>\n",
       "      <td>9</td>\n",
       "    </tr>\n",
       "  </tbody>\n",
       "</table>\n",
       "</div>"
      ],
      "text/plain": [
       "   magnitude  cdi  mmi  tsunami  sig net  nst   dmin   gap magType    depth  \\\n",
       "0        7.0    8    7        1  768  us  117  0.509  17.0     mww   14.000   \n",
       "1        6.9    4    4        0  735  us   99  2.229  34.0     mww   25.000   \n",
       "2        7.0    3    3        1  755  us  147  3.125  18.0     mww  579.000   \n",
       "3        7.3    5    5        1  833  us  149  1.865  21.0     mww   37.000   \n",
       "4        6.6    0    2        1  670  us  131  4.998  27.0     mww  624.464   \n",
       "\n",
       "   latitude  longitude          country  Year  Month  \n",
       "0   -9.7963    159.596  Solomon Islands  2022     11  \n",
       "1   -4.9559    100.738              NaN  2022     11  \n",
       "2  -20.0508   -178.346             Fiji  2022     12  \n",
       "3  -19.2918   -172.129              NaN  2022     11  \n",
       "4  -25.5948    178.278              NaN  2022      9  "
      ]
     },
     "execution_count": 13,
     "metadata": {},
     "output_type": "execute_result"
    }
   ],
   "source": [
    "df.head()"
   ]
  },
  {
   "cell_type": "code",
   "execution_count": 14,
   "id": "8c3869c2",
   "metadata": {
    "execution": {
     "iopub.execute_input": "2023-07-04T07:52:24.692408Z",
     "iopub.status.busy": "2023-07-04T07:52:24.691390Z",
     "iopub.status.idle": "2023-07-04T07:52:24.701159Z",
     "shell.execute_reply": "2023-07-04T07:52:24.700089Z"
    },
    "papermill": {
     "duration": 0.029929,
     "end_time": "2023-07-04T07:52:24.703571",
     "exception": false,
     "start_time": "2023-07-04T07:52:24.673642",
     "status": "completed"
    },
    "tags": []
   },
   "outputs": [
    {
     "data": {
      "text/plain": [
       "magnitude      0\n",
       "cdi            0\n",
       "mmi            0\n",
       "tsunami        0\n",
       "sig            0\n",
       "net            0\n",
       "nst            0\n",
       "dmin           0\n",
       "gap            0\n",
       "magType        0\n",
       "depth          0\n",
       "latitude       0\n",
       "longitude      0\n",
       "country      298\n",
       "Year           0\n",
       "Month          0\n",
       "dtype: int64"
      ]
     },
     "execution_count": 14,
     "metadata": {},
     "output_type": "execute_result"
    }
   ],
   "source": [
    "df.isnull().sum()"
   ]
  },
  {
   "cell_type": "code",
   "execution_count": 15,
   "id": "7dc90d7c",
   "metadata": {
    "execution": {
     "iopub.execute_input": "2023-07-04T07:52:24.738974Z",
     "iopub.status.busy": "2023-07-04T07:52:24.738481Z",
     "iopub.status.idle": "2023-07-04T07:52:24.752967Z",
     "shell.execute_reply": "2023-07-04T07:52:24.751335Z"
    },
    "papermill": {
     "duration": 0.035158,
     "end_time": "2023-07-04T07:52:24.755633",
     "exception": false,
     "start_time": "2023-07-04T07:52:24.720475",
     "status": "completed"
    },
    "tags": []
   },
   "outputs": [
    {
     "name": "stdout",
     "output_type": "stream",
     "text": [
      "<class 'pandas.core.frame.DataFrame'>\n",
      "RangeIndex: 782 entries, 0 to 781\n",
      "Data columns (total 16 columns):\n",
      " #   Column     Non-Null Count  Dtype  \n",
      "---  ------     --------------  -----  \n",
      " 0   magnitude  782 non-null    float64\n",
      " 1   cdi        782 non-null    int64  \n",
      " 2   mmi        782 non-null    int64  \n",
      " 3   tsunami    782 non-null    int64  \n",
      " 4   sig        782 non-null    int64  \n",
      " 5   net        782 non-null    object \n",
      " 6   nst        782 non-null    int64  \n",
      " 7   dmin       782 non-null    float64\n",
      " 8   gap        782 non-null    float64\n",
      " 9   magType    782 non-null    object \n",
      " 10  depth      782 non-null    float64\n",
      " 11  latitude   782 non-null    float64\n",
      " 12  longitude  782 non-null    float64\n",
      " 13  country    484 non-null    object \n",
      " 14  Year       782 non-null    int64  \n",
      " 15  Month      782 non-null    int64  \n",
      "dtypes: float64(6), int64(7), object(3)\n",
      "memory usage: 97.9+ KB\n"
     ]
    }
   ],
   "source": [
    "df.info()"
   ]
  },
  {
   "cell_type": "markdown",
   "id": "09989aee",
   "metadata": {
    "papermill": {
     "duration": 0.016476,
     "end_time": "2023-07-04T07:52:24.789668",
     "exception": false,
     "start_time": "2023-07-04T07:52:24.773192",
     "status": "completed"
    },
    "tags": []
   },
   "source": [
    "# EDA"
   ]
  },
  {
   "cell_type": "code",
   "execution_count": 16,
   "id": "3bbd6ff2",
   "metadata": {
    "execution": {
     "iopub.execute_input": "2023-07-04T07:52:24.825464Z",
     "iopub.status.busy": "2023-07-04T07:52:24.825022Z",
     "iopub.status.idle": "2023-07-04T07:52:26.345768Z",
     "shell.execute_reply": "2023-07-04T07:52:26.344474Z"
    },
    "papermill": {
     "duration": 1.541826,
     "end_time": "2023-07-04T07:52:26.348733",
     "exception": false,
     "start_time": "2023-07-04T07:52:24.806907",
     "status": "completed"
    },
    "tags": []
   },
   "outputs": [],
   "source": [
    "import seaborn as sns\n",
    "import matplotlib.pyplot as plt\n",
    "%matplotlib inline"
   ]
  },
  {
   "cell_type": "code",
   "execution_count": 17,
   "id": "e7357823",
   "metadata": {
    "execution": {
     "iopub.execute_input": "2023-07-04T07:52:26.385604Z",
     "iopub.status.busy": "2023-07-04T07:52:26.385138Z",
     "iopub.status.idle": "2023-07-04T07:52:26.894017Z",
     "shell.execute_reply": "2023-07-04T07:52:26.892692Z"
    },
    "papermill": {
     "duration": 0.530606,
     "end_time": "2023-07-04T07:52:26.896617",
     "exception": false,
     "start_time": "2023-07-04T07:52:26.366011",
     "status": "completed"
    },
    "tags": []
   },
   "outputs": [
    {
     "data": {
      "text/plain": [
       "<AxesSubplot:xlabel='magnitude', ylabel='count'>"
      ]
     },
     "execution_count": 17,
     "metadata": {},
     "output_type": "execute_result"
    },
    {
     "data": {
      "image/png": "[encoded data removed]",
      "text/plain": [
       "<Figure size 720x360 with 1 Axes>"
      ]
     },
     "metadata": {
      "needs_background": "light"
     },
     "output_type": "display_data"
    }
   ],
   "source": [
    "plt.figure(figsize=(10,5))\n",
    "sns.countplot(x='magnitude',data=df)\n",
    "#Most earthquakes tend to be around 6.5 to 6.7 on the scale"
   ]
  },
  {
   "cell_type": "code",
   "execution_count": 18,
   "id": "7c67f35f",
   "metadata": {
    "execution": {
     "iopub.execute_input": "2023-07-04T07:52:26.933273Z",
     "iopub.status.busy": "2023-07-04T07:52:26.932885Z",
     "iopub.status.idle": "2023-07-04T07:52:27.421293Z",
     "shell.execute_reply": "2023-07-04T07:52:27.420403Z"
    },
    "papermill": {
     "duration": 0.509393,
     "end_time": "2023-07-04T07:52:27.423539",
     "exception": false,
     "start_time": "2023-07-04T07:52:26.914146",
     "status": "completed"
    },
    "tags": []
   },
   "outputs": [
    {
     "data": {
      "text/plain": [
       "Text(0.5, 1.0, 'TOP 15 EARTHQUAKE PRONE COUNTRIES')"
      ]
     },
     "execution_count": 18,
     "metadata": {},
     "output_type": "execute_result"
    },
    {
     "data": {
      "image/png": "[encoded data removed]",
      "text/plain": [
       "<Figure size 1080x360 with 1 Axes>"
      ]
     },
     "metadata": {
      "needs_background": "light"
     },
     "output_type": "display_data"
    }
   ],
   "source": [
    "o=df['country'].value_counts().head(15).index\n",
    "plt.figure(figsize=(15,5))\n",
    "sns.countplot(x='country',data=df,order=o)\n",
    "plt.xticks(rotation=60)\n",
    "plt.title('TOP 15 EARTHQUAKE PRONE COUNTRIES')\n",
    "#Indonesia has the highest number of earthquakes."
   ]
  },
  {
   "cell_type": "code",
   "execution_count": 19,
   "id": "85aaabd8",
   "metadata": {
    "execution": {
     "iopub.execute_input": "2023-07-04T07:52:27.463975Z",
     "iopub.status.busy": "2023-07-04T07:52:27.462651Z",
     "iopub.status.idle": "2023-07-04T07:52:27.977864Z",
     "shell.execute_reply": "2023-07-04T07:52:27.976635Z"
    },
    "papermill": {
     "duration": 0.5388,
     "end_time": "2023-07-04T07:52:27.981122",
     "exception": false,
     "start_time": "2023-07-04T07:52:27.442322",
     "status": "completed"
    },
    "tags": []
   },
   "outputs": [
    {
     "data": {
      "text/plain": [
       "Text(0.5, 1.0, 'TSUNAMI CHANCE IN TOP 10 EARTHQUAKE PRONE COUNTRIES')"
      ]
     },
     "execution_count": 19,
     "metadata": {},
     "output_type": "execute_result"
    },
    {
     "data": {
      "image/png": "[encoded data removed]",
      "text/plain": [
       "<Figure size 1080x360 with 1 Axes>"
      ]
     },
     "metadata": {
      "needs_background": "light"
     },
     "output_type": "display_data"
    }
   ],
   "source": [
    "o=df['country'].value_counts().head(10).index\n",
    "plt.figure(figsize=(15,5))\n",
    "sns.countplot(x='country',data=df,order=o,hue='tsunami')\n",
    "plt.xticks(rotation=60)\n",
    "plt.title('TSUNAMI CHANCE IN TOP 10 EARTHQUAKE PRONE COUNTRIES')\n",
    "#Indonesia has the highest number of earthquakes worldwide, but Papua New Guinea and Philippines  has a very high risk of tsunamis following an earthquake."
   ]
  },
  {
   "cell_type": "code",
   "execution_count": 20,
   "id": "4826545f",
   "metadata": {
    "execution": {
     "iopub.execute_input": "2023-07-04T07:52:28.023927Z",
     "iopub.status.busy": "2023-07-04T07:52:28.022736Z",
     "iopub.status.idle": "2023-07-04T07:52:28.463561Z",
     "shell.execute_reply": "2023-07-04T07:52:28.462217Z"
    },
    "papermill": {
     "duration": 0.465026,
     "end_time": "2023-07-04T07:52:28.466553",
     "exception": false,
     "start_time": "2023-07-04T07:52:28.001527",
     "status": "completed"
    },
    "tags": []
   },
   "outputs": [
    {
     "data": {
      "text/plain": [
       "<AxesSubplot:xlabel='sig', ylabel='magnitude'>"
      ]
     },
     "execution_count": 20,
     "metadata": {},
     "output_type": "execute_result"
    },
    {
     "data": {
      "image/png": "[encoded data removed]",
      "text/plain": [
       "<Figure size 432x288 with 1 Axes>"
      ]
     },
     "metadata": {
      "needs_background": "light"
     },
     "output_type": "display_data"
    }
   ],
   "source": [
    "sns.scatterplot(x='sig',y='magnitude',data=df,hue='tsunami')\n",
    "#the higher the magnitude higher the chance of tsunami"
   ]
  },
  {
   "cell_type": "code",
   "execution_count": 21,
   "id": "ed8dd0d9",
   "metadata": {
    "execution": {
     "iopub.execute_input": "2023-07-04T07:52:28.510949Z",
     "iopub.status.busy": "2023-07-04T07:52:28.510531Z",
     "iopub.status.idle": "2023-07-04T07:52:28.897823Z",
     "shell.execute_reply": "2023-07-04T07:52:28.896564Z"
    },
    "papermill": {
     "duration": 0.412521,
     "end_time": "2023-07-04T07:52:28.900635",
     "exception": false,
     "start_time": "2023-07-04T07:52:28.488114",
     "status": "completed"
    },
    "tags": []
   },
   "outputs": [
    {
     "data": {
      "text/plain": [
       "Text(0.5, 1.0, 'EARTHQUICK DATA CONTRIBUTOR')"
      ]
     },
     "execution_count": 21,
     "metadata": {},
     "output_type": "execute_result"
    },
    {
     "data": {
      "image/png": "[encoded data removed]",
      "text/plain": [
       "<Figure size 432x288 with 1 Axes>"
      ]
     },
     "metadata": {
      "needs_background": "light"
     },
     "output_type": "display_data"
    }
   ],
   "source": [
    "sns.countplot(x='net',data=df)\n",
    "plt.title('EARTHQUICK DATA CONTRIBUTOR')\n",
    "#The US is a major contributor of earthquake data"
   ]
  },
  {
   "cell_type": "code",
   "execution_count": 22,
   "id": "7f89f65a",
   "metadata": {
    "execution": {
     "iopub.execute_input": "2023-07-04T07:52:28.948580Z",
     "iopub.status.busy": "2023-07-04T07:52:28.947883Z",
     "iopub.status.idle": "2023-07-04T07:52:29.228340Z",
     "shell.execute_reply": "2023-07-04T07:52:29.227063Z"
    },
    "papermill": {
     "duration": 0.307897,
     "end_time": "2023-07-04T07:52:29.230913",
     "exception": false,
     "start_time": "2023-07-04T07:52:28.923016",
     "status": "completed"
    },
    "tags": []
   },
   "outputs": [
    {
     "data": {
      "text/plain": [
       "Text(0.5, 1.0, 'Tsunami Distribution')"
      ]
     },
     "execution_count": 22,
     "metadata": {},
     "output_type": "execute_result"
    },
    {
     "data": {
      "image/png": "[encoded data removed]",
      "text/plain": [
       "<Figure size 432x288 with 1 Axes>"
      ]
     },
     "metadata": {
      "needs_background": "light"
     },
     "output_type": "display_data"
    }
   ],
   "source": [
    "sns.countplot(x='tsunami',data=df)\n",
    "plt.title('Tsunami Distribution')"
   ]
  },
  {
   "cell_type": "code",
   "execution_count": 23,
   "id": "13fdaddf",
   "metadata": {
    "execution": {
     "iopub.execute_input": "2023-07-04T07:52:29.276997Z",
     "iopub.status.busy": "2023-07-04T07:52:29.276278Z",
     "iopub.status.idle": "2023-07-04T07:52:29.691463Z",
     "shell.execute_reply": "2023-07-04T07:52:29.689486Z"
    },
    "papermill": {
     "duration": 0.444807,
     "end_time": "2023-07-04T07:52:29.697805",
     "exception": false,
     "start_time": "2023-07-04T07:52:29.252998",
     "status": "completed"
    },
    "tags": []
   },
   "outputs": [
    {
     "data": {
      "text/plain": [
       "<AxesSubplot:xlabel='Year', ylabel='count'>"
      ]
     },
     "execution_count": 23,
     "metadata": {},
     "output_type": "execute_result"
    },
    {
     "data": {
      "image/png": "[encoded data removed]",
      "text/plain": [
       "<Figure size 1440x360 with 1 Axes>"
      ]
     },
     "metadata": {
      "needs_background": "light"
     },
     "output_type": "display_data"
    }
   ],
   "source": [
    "plt.figure(figsize=(20,5))\n",
    "o=df['Year'].value_counts().head(15).index\n",
    "sns.countplot(x='Year',data=df,order=o)\n",
    "#In 2015 and 2013, the world experienced the highest number of earthquakes. "
   ]
  },
  {
   "cell_type": "code",
   "execution_count": 24,
   "id": "89479572",
   "metadata": {
    "execution": {
     "iopub.execute_input": "2023-07-04T07:52:29.749945Z",
     "iopub.status.busy": "2023-07-04T07:52:29.749502Z",
     "iopub.status.idle": "2023-07-04T07:52:30.263231Z",
     "shell.execute_reply": "2023-07-04T07:52:30.261976Z"
    },
    "papermill": {
     "duration": 0.544074,
     "end_time": "2023-07-04T07:52:30.265848",
     "exception": false,
     "start_time": "2023-07-04T07:52:29.721774",
     "status": "completed"
    },
    "tags": []
   },
   "outputs": [
    {
     "data": {
      "text/plain": [
       "Text(0.5, 1.0, 'NUMBER OF EARTHQUAKES ENCOUNTERED IN PAPUA NEW GUINEA PER YEAR')"
      ]
     },
     "execution_count": 24,
     "metadata": {},
     "output_type": "execute_result"
    },
    {
     "data": {
      "image/png": "[encoded data removed]",
      "text/plain": [
       "<Figure size 1440x360 with 1 Axes>"
      ]
     },
     "metadata": {
      "needs_background": "light"
     },
     "output_type": "display_data"
    }
   ],
   "source": [
    "Papua=df[df['country']=='Papua New Guinea']\n",
    "plt.figure(figsize=(20,5))\n",
    "sns.countplot(x='Year',data=Papua)\n",
    "plt.title('NUMBER OF EARTHQUAKES ENCOUNTERED IN PAPUA NEW GUINEA PER YEAR')\n",
    "#Papua New Guinea experiences at least one earthquake per year"
   ]
  },
  {
   "cell_type": "code",
   "execution_count": 25,
   "id": "02765df1",
   "metadata": {
    "execution": {
     "iopub.execute_input": "2023-07-04T07:52:30.315924Z",
     "iopub.status.busy": "2023-07-04T07:52:30.315117Z",
     "iopub.status.idle": "2023-07-04T07:52:30.859647Z",
     "shell.execute_reply": "2023-07-04T07:52:30.858410Z"
    },
    "papermill": {
     "duration": 0.573845,
     "end_time": "2023-07-04T07:52:30.862871",
     "exception": false,
     "start_time": "2023-07-04T07:52:30.289026",
     "status": "completed"
    },
    "tags": []
   },
   "outputs": [
    {
     "data": {
      "text/plain": [
       "Text(0.5, 1.0, 'NUMBER OF EARTHQUAKES ENCOUNTERED IN INDONESIA PER YEAR')"
      ]
     },
     "execution_count": 25,
     "metadata": {},
     "output_type": "execute_result"
    },
    {
     "data": {
      "image/png": "[encoded data removed]",
      "text/plain": [
       "<Figure size 1440x360 with 1 Axes>"
      ]
     },
     "metadata": {
      "needs_background": "light"
     },
     "output_type": "display_data"
    }
   ],
   "source": [
    "Indo=df[df['country']=='Indonesia']\n",
    "plt.figure(figsize=(20,5))\n",
    "sns.countplot(x='Year',data=Indo)\n",
    "plt.title('NUMBER OF EARTHQUAKES ENCOUNTERED IN INDONESIA PER YEAR')\n",
    "#Indonesia encountered 13 earthquic in the year 2007"
   ]
  },
  {
   "cell_type": "code",
   "execution_count": 26,
   "id": "9e70b554",
   "metadata": {
    "execution": {
     "iopub.execute_input": "2023-07-04T07:52:30.913003Z",
     "iopub.status.busy": "2023-07-04T07:52:30.912193Z",
     "iopub.status.idle": "2023-07-04T07:52:31.622663Z",
     "shell.execute_reply": "2023-07-04T07:52:31.621431Z"
    },
    "papermill": {
     "duration": 0.738515,
     "end_time": "2023-07-04T07:52:31.625147",
     "exception": false,
     "start_time": "2023-07-04T07:52:30.886632",
     "status": "completed"
    },
    "tags": []
   },
   "outputs": [
    {
     "data": {
      "text/plain": [
       "Text(0.5, 1.0, 'NUMBER OF EARTHQUAKES ENCOUNTERED IN PHILIPPINES PER YEAR')"
      ]
     },
     "execution_count": 26,
     "metadata": {},
     "output_type": "execute_result"
    },
    {
     "data": {
      "image/png": "[encoded data removed]",
      "text/plain": [
       "<Figure size 1440x360 with 1 Axes>"
      ]
     },
     "metadata": {
      "needs_background": "light"
     },
     "output_type": "display_data"
    }
   ],
   "source": [
    "\n",
    "Phi=df[df['country']=='Philippines']\n",
    "plt.figure(figsize=(20,5))\n",
    "sns.countplot(x='Year',data=Phi,hue='tsunami')\n",
    "plt.title('NUMBER OF EARTHQUAKES ENCOUNTERED IN PHILIPPINES PER YEAR')\n",
    "# The Philippines has experienced all of tsunamis in recent years following earthquakes."
   ]
  },
  {
   "cell_type": "markdown",
   "id": "378656ef",
   "metadata": {
    "papermill": {
     "duration": 0.024631,
     "end_time": "2023-07-04T07:52:31.673861",
     "exception": false,
     "start_time": "2023-07-04T07:52:31.649230",
     "status": "completed"
    },
    "tags": []
   },
   "source": [
    "# FEATURE ENGINEERING"
   ]
  },
  {
   "cell_type": "code",
   "execution_count": 27,
   "id": "28adcd17",
   "metadata": {
    "execution": {
     "iopub.execute_input": "2023-07-04T07:52:31.724275Z",
     "iopub.status.busy": "2023-07-04T07:52:31.723872Z",
     "iopub.status.idle": "2023-07-04T07:52:31.745887Z",
     "shell.execute_reply": "2023-07-04T07:52:31.744378Z"
    },
    "papermill": {
     "duration": 0.050263,
     "end_time": "2023-07-04T07:52:31.748546",
     "exception": false,
     "start_time": "2023-07-04T07:52:31.698283",
     "status": "completed"
    },
    "tags": []
   },
   "outputs": [
    {
     "data": {
      "text/html": [
       "<div>\n",
       "<style scoped>\n",
       "    .dataframe tbody tr th:only-of-type {\n",
       "        vertical-align: middle;\n",
       "    }\n",
       "\n",
       "    .dataframe tbody tr th {\n",
       "        vertical-align: top;\n",
       "    }\n",
       "\n",
       "    .dataframe thead th {\n",
       "        text-align: right;\n",
       "    }\n",
       "</style>\n",
       "<table border=\"1\" class=\"dataframe\">\n",
       "  <thead>\n",
       "    <tr style=\"text-align: right;\">\n",
       "      <th></th>\n",
       "      <th>magnitude</th>\n",
       "      <th>cdi</th>\n",
       "      <th>mmi</th>\n",
       "      <th>tsunami</th>\n",
       "      <th>sig</th>\n",
       "      <th>net</th>\n",
       "      <th>nst</th>\n",
       "      <th>dmin</th>\n",
       "      <th>gap</th>\n",
       "      <th>magType</th>\n",
       "      <th>depth</th>\n",
       "      <th>latitude</th>\n",
       "      <th>longitude</th>\n",
       "      <th>country</th>\n",
       "      <th>Year</th>\n",
       "      <th>Month</th>\n",
       "    </tr>\n",
       "  </thead>\n",
       "  <tbody>\n",
       "    <tr>\n",
       "      <th>0</th>\n",
       "      <td>7.0</td>\n",
       "      <td>8</td>\n",
       "      <td>7</td>\n",
       "      <td>1</td>\n",
       "      <td>768</td>\n",
       "      <td>us</td>\n",
       "      <td>117</td>\n",
       "      <td>0.509</td>\n",
       "      <td>17.0</td>\n",
       "      <td>mww</td>\n",
       "      <td>14.000</td>\n",
       "      <td>-9.7963</td>\n",
       "      <td>159.596</td>\n",
       "      <td>Solomon Islands</td>\n",
       "      <td>2022</td>\n",
       "      <td>11</td>\n",
       "    </tr>\n",
       "    <tr>\n",
       "      <th>1</th>\n",
       "      <td>6.9</td>\n",
       "      <td>4</td>\n",
       "      <td>4</td>\n",
       "      <td>0</td>\n",
       "      <td>735</td>\n",
       "      <td>us</td>\n",
       "      <td>99</td>\n",
       "      <td>2.229</td>\n",
       "      <td>34.0</td>\n",
       "      <td>mww</td>\n",
       "      <td>25.000</td>\n",
       "      <td>-4.9559</td>\n",
       "      <td>100.738</td>\n",
       "      <td>NaN</td>\n",
       "      <td>2022</td>\n",
       "      <td>11</td>\n",
       "    </tr>\n",
       "    <tr>\n",
       "      <th>2</th>\n",
       "      <td>7.0</td>\n",
       "      <td>3</td>\n",
       "      <td>3</td>\n",
       "      <td>1</td>\n",
       "      <td>755</td>\n",
       "      <td>us</td>\n",
       "      <td>147</td>\n",
       "      <td>3.125</td>\n",
       "      <td>18.0</td>\n",
       "      <td>mww</td>\n",
       "      <td>579.000</td>\n",
       "      <td>-20.0508</td>\n",
       "      <td>-178.346</td>\n",
       "      <td>Fiji</td>\n",
       "      <td>2022</td>\n",
       "      <td>12</td>\n",
       "    </tr>\n",
       "    <tr>\n",
       "      <th>3</th>\n",
       "      <td>7.3</td>\n",
       "      <td>5</td>\n",
       "      <td>5</td>\n",
       "      <td>1</td>\n",
       "      <td>833</td>\n",
       "      <td>us</td>\n",
       "      <td>149</td>\n",
       "      <td>1.865</td>\n",
       "      <td>21.0</td>\n",
       "      <td>mww</td>\n",
       "      <td>37.000</td>\n",
       "      <td>-19.2918</td>\n",
       "      <td>-172.129</td>\n",
       "      <td>NaN</td>\n",
       "      <td>2022</td>\n",
       "      <td>11</td>\n",
       "    </tr>\n",
       "    <tr>\n",
       "      <th>4</th>\n",
       "      <td>6.6</td>\n",
       "      <td>0</td>\n",
       "      <td>2</td>\n",
       "      <td>1</td>\n",
       "      <td>670</td>\n",
       "      <td>us</td>\n",
       "      <td>131</td>\n",
       "      <td>4.998</td>\n",
       "      <td>27.0</td>\n",
       "      <td>mww</td>\n",
       "      <td>624.464</td>\n",
       "      <td>-25.5948</td>\n",
       "      <td>178.278</td>\n",
       "      <td>NaN</td>\n",
       "      <td>2022</td>\n",
       "      <td>9</td>\n",
       "    </tr>\n",
       "  </tbody>\n",
       "</table>\n",
       "</div>"
      ],
      "text/plain": [
       "   magnitude  cdi  mmi  tsunami  sig net  nst   dmin   gap magType    depth  \\\n",
       "0        7.0    8    7        1  768  us  117  0.509  17.0     mww   14.000   \n",
       "1        6.9    4    4        0  735  us   99  2.229  34.0     mww   25.000   \n",
       "2        7.0    3    3        1  755  us  147  3.125  18.0     mww  579.000   \n",
       "3        7.3    5    5        1  833  us  149  1.865  21.0     mww   37.000   \n",
       "4        6.6    0    2        1  670  us  131  4.998  27.0     mww  624.464   \n",
       "\n",
       "   latitude  longitude          country  Year  Month  \n",
       "0   -9.7963    159.596  Solomon Islands  2022     11  \n",
       "1   -4.9559    100.738              NaN  2022     11  \n",
       "2  -20.0508   -178.346             Fiji  2022     12  \n",
       "3  -19.2918   -172.129              NaN  2022     11  \n",
       "4  -25.5948    178.278              NaN  2022      9  "
      ]
     },
     "execution_count": 27,
     "metadata": {},
     "output_type": "execute_result"
    }
   ],
   "source": [
    "df.head()"
   ]
  },
  {
   "cell_type": "code",
   "execution_count": 28,
   "id": "60a2c535",
   "metadata": {
    "execution": {
     "iopub.execute_input": "2023-07-04T07:52:31.800754Z",
     "iopub.status.busy": "2023-07-04T07:52:31.800341Z",
     "iopub.status.idle": "2023-07-04T07:52:31.806597Z",
     "shell.execute_reply": "2023-07-04T07:52:31.805405Z"
    },
    "papermill": {
     "duration": 0.03564,
     "end_time": "2023-07-04T07:52:31.809054",
     "exception": false,
     "start_time": "2023-07-04T07:52:31.773414",
     "status": "completed"
    },
    "tags": []
   },
   "outputs": [],
   "source": [
    "df.drop('country',axis=1,inplace=True)#we have latitude and longitude"
   ]
  },
  {
   "cell_type": "code",
   "execution_count": 29,
   "id": "68a75e54",
   "metadata": {
    "execution": {
     "iopub.execute_input": "2023-07-04T07:52:31.860799Z",
     "iopub.status.busy": "2023-07-04T07:52:31.860029Z",
     "iopub.status.idle": "2023-07-04T07:52:31.874339Z",
     "shell.execute_reply": "2023-07-04T07:52:31.873133Z"
    },
    "papermill": {
     "duration": 0.043286,
     "end_time": "2023-07-04T07:52:31.876889",
     "exception": false,
     "start_time": "2023-07-04T07:52:31.833603",
     "status": "completed"
    },
    "tags": []
   },
   "outputs": [
    {
     "data": {
      "text/html": [
       "<div>\n",
       "<style scoped>\n",
       "    .dataframe tbody tr th:only-of-type {\n",
       "        vertical-align: middle;\n",
       "    }\n",
       "\n",
       "    .dataframe tbody tr th {\n",
       "        vertical-align: top;\n",
       "    }\n",
       "\n",
       "    .dataframe thead th {\n",
       "        text-align: right;\n",
       "    }\n",
       "</style>\n",
       "<table border=\"1\" class=\"dataframe\">\n",
       "  <thead>\n",
       "    <tr style=\"text-align: right;\">\n",
       "      <th></th>\n",
       "      <th>net</th>\n",
       "      <th>magType</th>\n",
       "    </tr>\n",
       "  </thead>\n",
       "  <tbody>\n",
       "    <tr>\n",
       "      <th>0</th>\n",
       "      <td>us</td>\n",
       "      <td>mww</td>\n",
       "    </tr>\n",
       "    <tr>\n",
       "      <th>1</th>\n",
       "      <td>us</td>\n",
       "      <td>mww</td>\n",
       "    </tr>\n",
       "    <tr>\n",
       "      <th>2</th>\n",
       "      <td>us</td>\n",
       "      <td>mww</td>\n",
       "    </tr>\n",
       "    <tr>\n",
       "      <th>3</th>\n",
       "      <td>us</td>\n",
       "      <td>mww</td>\n",
       "    </tr>\n",
       "    <tr>\n",
       "      <th>4</th>\n",
       "      <td>us</td>\n",
       "      <td>mww</td>\n",
       "    </tr>\n",
       "    <tr>\n",
       "      <th>...</th>\n",
       "      <td>...</td>\n",
       "      <td>...</td>\n",
       "    </tr>\n",
       "    <tr>\n",
       "      <th>777</th>\n",
       "      <td>us</td>\n",
       "      <td>mwc</td>\n",
       "    </tr>\n",
       "    <tr>\n",
       "      <th>778</th>\n",
       "      <td>ak</td>\n",
       "      <td>mw</td>\n",
       "    </tr>\n",
       "    <tr>\n",
       "      <th>779</th>\n",
       "      <td>us</td>\n",
       "      <td>mwb</td>\n",
       "    </tr>\n",
       "    <tr>\n",
       "      <th>780</th>\n",
       "      <td>us</td>\n",
       "      <td>mwc</td>\n",
       "    </tr>\n",
       "    <tr>\n",
       "      <th>781</th>\n",
       "      <td>us</td>\n",
       "      <td>mwc</td>\n",
       "    </tr>\n",
       "  </tbody>\n",
       "</table>\n",
       "<p>782 rows × 2 columns</p>\n",
       "</div>"
      ],
      "text/plain": [
       "    net magType\n",
       "0    us     mww\n",
       "1    us     mww\n",
       "2    us     mww\n",
       "3    us     mww\n",
       "4    us     mww\n",
       "..   ..     ...\n",
       "777  us     mwc\n",
       "778  ak      mw\n",
       "779  us     mwb\n",
       "780  us     mwc\n",
       "781  us     mwc\n",
       "\n",
       "[782 rows x 2 columns]"
      ]
     },
     "execution_count": 29,
     "metadata": {},
     "output_type": "execute_result"
    }
   ],
   "source": [
    "obj=df.select_dtypes(include=['object'])\n",
    "obj\n",
    "#we can drop net because 95% of data contributed by US "
   ]
  },
  {
   "cell_type": "code",
   "execution_count": 30,
   "id": "f3fb054d",
   "metadata": {
    "execution": {
     "iopub.execute_input": "2023-07-04T07:52:31.928362Z",
     "iopub.status.busy": "2023-07-04T07:52:31.927990Z",
     "iopub.status.idle": "2023-07-04T07:52:31.936670Z",
     "shell.execute_reply": "2023-07-04T07:52:31.935385Z"
    },
    "papermill": {
     "duration": 0.037385,
     "end_time": "2023-07-04T07:52:31.939110",
     "exception": false,
     "start_time": "2023-07-04T07:52:31.901725",
     "status": "completed"
    },
    "tags": []
   },
   "outputs": [
    {
     "data": {
      "text/plain": [
       "net        11\n",
       "magType     9\n",
       "dtype: int64"
      ]
     },
     "execution_count": 30,
     "metadata": {},
     "output_type": "execute_result"
    }
   ],
   "source": [
    "obj.nunique()"
   ]
  },
  {
   "cell_type": "code",
   "execution_count": 31,
   "id": "81ddc98a",
   "metadata": {
    "execution": {
     "iopub.execute_input": "2023-07-04T07:52:31.992420Z",
     "iopub.status.busy": "2023-07-04T07:52:31.992023Z",
     "iopub.status.idle": "2023-07-04T07:52:32.187476Z",
     "shell.execute_reply": "2023-07-04T07:52:32.185994Z"
    },
    "papermill": {
     "duration": 0.22504,
     "end_time": "2023-07-04T07:52:32.190324",
     "exception": false,
     "start_time": "2023-07-04T07:52:31.965284",
     "status": "completed"
    },
    "tags": []
   },
   "outputs": [
    {
     "data": {
      "text/html": [
       "<div>\n",
       "<style scoped>\n",
       "    .dataframe tbody tr th:only-of-type {\n",
       "        vertical-align: middle;\n",
       "    }\n",
       "\n",
       "    .dataframe tbody tr th {\n",
       "        vertical-align: top;\n",
       "    }\n",
       "\n",
       "    .dataframe thead th {\n",
       "        text-align: right;\n",
       "    }\n",
       "</style>\n",
       "<table border=\"1\" class=\"dataframe\">\n",
       "  <thead>\n",
       "    <tr style=\"text-align: right;\">\n",
       "      <th></th>\n",
       "      <th>magnitude</th>\n",
       "      <th>cdi</th>\n",
       "      <th>mmi</th>\n",
       "      <th>tsunami</th>\n",
       "      <th>sig</th>\n",
       "      <th>nst</th>\n",
       "      <th>dmin</th>\n",
       "      <th>gap</th>\n",
       "      <th>depth</th>\n",
       "      <th>latitude</th>\n",
       "      <th>longitude</th>\n",
       "      <th>Year</th>\n",
       "      <th>Month</th>\n",
       "      <th>magType</th>\n",
       "    </tr>\n",
       "  </thead>\n",
       "  <tbody>\n",
       "    <tr>\n",
       "      <th>0</th>\n",
       "      <td>7.0</td>\n",
       "      <td>8</td>\n",
       "      <td>7</td>\n",
       "      <td>1</td>\n",
       "      <td>768</td>\n",
       "      <td>117</td>\n",
       "      <td>0.509</td>\n",
       "      <td>17.0</td>\n",
       "      <td>14.000</td>\n",
       "      <td>-9.7963</td>\n",
       "      <td>159.596</td>\n",
       "      <td>2022</td>\n",
       "      <td>11</td>\n",
       "      <td>8</td>\n",
       "    </tr>\n",
       "    <tr>\n",
       "      <th>1</th>\n",
       "      <td>6.9</td>\n",
       "      <td>4</td>\n",
       "      <td>4</td>\n",
       "      <td>0</td>\n",
       "      <td>735</td>\n",
       "      <td>99</td>\n",
       "      <td>2.229</td>\n",
       "      <td>34.0</td>\n",
       "      <td>25.000</td>\n",
       "      <td>-4.9559</td>\n",
       "      <td>100.738</td>\n",
       "      <td>2022</td>\n",
       "      <td>11</td>\n",
       "      <td>8</td>\n",
       "    </tr>\n",
       "    <tr>\n",
       "      <th>2</th>\n",
       "      <td>7.0</td>\n",
       "      <td>3</td>\n",
       "      <td>3</td>\n",
       "      <td>1</td>\n",
       "      <td>755</td>\n",
       "      <td>147</td>\n",
       "      <td>3.125</td>\n",
       "      <td>18.0</td>\n",
       "      <td>579.000</td>\n",
       "      <td>-20.0508</td>\n",
       "      <td>-178.346</td>\n",
       "      <td>2022</td>\n",
       "      <td>12</td>\n",
       "      <td>8</td>\n",
       "    </tr>\n",
       "    <tr>\n",
       "      <th>3</th>\n",
       "      <td>7.3</td>\n",
       "      <td>5</td>\n",
       "      <td>5</td>\n",
       "      <td>1</td>\n",
       "      <td>833</td>\n",
       "      <td>149</td>\n",
       "      <td>1.865</td>\n",
       "      <td>21.0</td>\n",
       "      <td>37.000</td>\n",
       "      <td>-19.2918</td>\n",
       "      <td>-172.129</td>\n",
       "      <td>2022</td>\n",
       "      <td>11</td>\n",
       "      <td>8</td>\n",
       "    </tr>\n",
       "    <tr>\n",
       "      <th>4</th>\n",
       "      <td>6.6</td>\n",
       "      <td>0</td>\n",
       "      <td>2</td>\n",
       "      <td>1</td>\n",
       "      <td>670</td>\n",
       "      <td>131</td>\n",
       "      <td>4.998</td>\n",
       "      <td>27.0</td>\n",
       "      <td>624.464</td>\n",
       "      <td>-25.5948</td>\n",
       "      <td>178.278</td>\n",
       "      <td>2022</td>\n",
       "      <td>9</td>\n",
       "      <td>8</td>\n",
       "    </tr>\n",
       "  </tbody>\n",
       "</table>\n",
       "</div>"
      ],
      "text/plain": [
       "   magnitude  cdi  mmi  tsunami  sig  nst   dmin   gap    depth  latitude  \\\n",
       "0        7.0    8    7        1  768  117  0.509  17.0   14.000   -9.7963   \n",
       "1        6.9    4    4        0  735   99  2.229  34.0   25.000   -4.9559   \n",
       "2        7.0    3    3        1  755  147  3.125  18.0  579.000  -20.0508   \n",
       "3        7.3    5    5        1  833  149  1.865  21.0   37.000  -19.2918   \n",
       "4        6.6    0    2        1  670  131  4.998  27.0  624.464  -25.5948   \n",
       "\n",
       "   longitude  Year  Month  magType  \n",
       "0    159.596  2022     11        8  \n",
       "1    100.738  2022     11        8  \n",
       "2   -178.346  2022     12        8  \n",
       "3   -172.129  2022     11        8  \n",
       "4    178.278  2022      9        8  "
      ]
     },
     "execution_count": 31,
     "metadata": {},
     "output_type": "execute_result"
    }
   ],
   "source": [
    "obj.drop('net',axis=1,inplace=True)\n",
    "df.drop(['net','magType'],axis=1,inplace=True)\n",
    "from sklearn.preprocessing import LabelEncoder\n",
    "lr=LabelEncoder()\n",
    "obj_lbl=obj.apply(lr.fit_transform)\n",
    "df=pd.concat([df,obj_lbl],axis=1)\n",
    "df.head()"
   ]
  },
  {
   "cell_type": "code",
   "execution_count": 32,
   "id": "8973f120",
   "metadata": {
    "execution": {
     "iopub.execute_input": "2023-07-04T07:52:32.243301Z",
     "iopub.status.busy": "2023-07-04T07:52:32.242908Z",
     "iopub.status.idle": "2023-07-04T07:52:33.031103Z",
     "shell.execute_reply": "2023-07-04T07:52:33.029891Z"
    },
    "papermill": {
     "duration": 0.818204,
     "end_time": "2023-07-04T07:52:33.034066",
     "exception": false,
     "start_time": "2023-07-04T07:52:32.215862",
     "status": "completed"
    },
    "tags": []
   },
   "outputs": [
    {
     "data": {
      "text/plain": [
       "<AxesSubplot:>"
      ]
     },
     "execution_count": 32,
     "metadata": {},
     "output_type": "execute_result"
    },
    {
     "data": {
      "image/png": "[encoded data removed]",
      "text/plain": [
       "<Figure size 1440x720 with 2 Axes>"
      ]
     },
     "metadata": {
      "needs_background": "light"
     },
     "output_type": "display_data"
    }
   ],
   "source": [
    "d=df.corr()\n",
    "d=d[(d>0.3) | (d<-0.3)]\n",
    "plt.figure(figsize=(20,10))\n",
    "sns.heatmap(d,annot=True)"
   ]
  },
  {
   "cell_type": "markdown",
   "id": "f2e67102",
   "metadata": {
    "papermill": {
     "duration": 0.026541,
     "end_time": "2023-07-04T07:52:33.088185",
     "exception": false,
     "start_time": "2023-07-04T07:52:33.061644",
     "status": "completed"
    },
    "tags": []
   },
   "source": [
    "# SCALING AND MODEL BUILDING"
   ]
  },
  {
   "cell_type": "code",
   "execution_count": 33,
   "id": "7e2cdddc",
   "metadata": {
    "execution": {
     "iopub.execute_input": "2023-07-04T07:52:33.145285Z",
     "iopub.status.busy": "2023-07-04T07:52:33.144551Z",
     "iopub.status.idle": "2023-07-04T07:52:34.105236Z",
     "shell.execute_reply": "2023-07-04T07:52:34.103868Z"
    },
    "papermill": {
     "duration": 0.993066,
     "end_time": "2023-07-04T07:52:34.108384",
     "exception": false,
     "start_time": "2023-07-04T07:52:33.115318",
     "status": "completed"
    },
    "tags": []
   },
   "outputs": [],
   "source": [
    "from sklearn.linear_model import LogisticRegression\n",
    "from sklearn.tree import DecisionTreeClassifier\n",
    "from sklearn.ensemble import RandomForestClassifier\n",
    "from sklearn.model_selection import train_test_split,GridSearchCV\n",
    "from sklearn.metrics import accuracy_score, classification_report, confusion_matrix\n",
    "from imblearn.over_sampling import RandomOverSampler,SMOTE\n",
    "from imblearn.under_sampling import RandomUnderSampler\n",
    "from sklearn.preprocessing import StandardScaler\n",
    "import xgboost as xgb"
   ]
  },
  {
   "cell_type": "code",
   "execution_count": 34,
   "id": "1c4c237d",
   "metadata": {
    "execution": {
     "iopub.execute_input": "2023-07-04T07:52:34.168834Z",
     "iopub.status.busy": "2023-07-04T07:52:34.168408Z",
     "iopub.status.idle": "2023-07-04T07:52:34.183369Z",
     "shell.execute_reply": "2023-07-04T07:52:34.182157Z"
    },
    "papermill": {
     "duration": 0.049191,
     "end_time": "2023-07-04T07:52:34.185964",
     "exception": false,
     "start_time": "2023-07-04T07:52:34.136773",
     "status": "completed"
    },
    "tags": []
   },
   "outputs": [],
   "source": [
    "\n",
    "sc = StandardScaler()\n",
    "\n",
    "x=df.drop('tsunami',axis=1)\n",
    "y=df['tsunami']\n",
    "x_scaled=sc.fit_transform(x)\n",
    "x=pd.DataFrame(x_scaled,columns=x.columns)\n",
    "x_train,x_test,y_train,y_test=train_test_split(x,y,test_size=0.2)"
   ]
  },
  {
   "cell_type": "code",
   "execution_count": 35,
   "id": "eb8f849b",
   "metadata": {
    "execution": {
     "iopub.execute_input": "2023-07-04T07:52:34.242346Z",
     "iopub.status.busy": "2023-07-04T07:52:34.241936Z",
     "iopub.status.idle": "2023-07-04T07:52:34.484501Z",
     "shell.execute_reply": "2023-07-04T07:52:34.483243Z"
    },
    "papermill": {
     "duration": 0.273986,
     "end_time": "2023-07-04T07:52:34.487222",
     "exception": false,
     "start_time": "2023-07-04T07:52:34.213236",
     "status": "completed"
    },
    "tags": []
   },
   "outputs": [
    {
     "data": {
      "text/plain": [
       "<AxesSubplot:xlabel='tsunami', ylabel='count'>"
      ]
     },
     "execution_count": 35,
     "metadata": {},
     "output_type": "execute_result"
    },
    {
     "data": {
      "image/png": "[encoded data removed]",
      "text/plain": [
       "<Figure size 432x288 with 1 Axes>"
      ]
     },
     "metadata": {
      "needs_background": "light"
     },
     "output_type": "display_data"
    }
   ],
   "source": [
    "sns.countplot(x=y,data=df)"
   ]
  },
  {
   "cell_type": "markdown",
   "id": "b0a63883",
   "metadata": {
    "papermill": {
     "duration": 0.02666,
     "end_time": "2023-07-04T07:52:34.541162",
     "exception": false,
     "start_time": "2023-07-04T07:52:34.514502",
     "status": "completed"
    },
    "tags": []
   },
   "source": [
    "# DEALING WITH IMBALANCE DATA"
   ]
  },
  {
   "cell_type": "code",
   "execution_count": 36,
   "id": "f5b63939",
   "metadata": {
    "execution": {
     "iopub.execute_input": "2023-07-04T07:52:34.598254Z",
     "iopub.status.busy": "2023-07-04T07:52:34.597878Z",
     "iopub.status.idle": "2023-07-04T07:52:34.613318Z",
     "shell.execute_reply": "2023-07-04T07:52:34.612180Z"
    },
    "papermill": {
     "duration": 0.047327,
     "end_time": "2023-07-04T07:52:34.616054",
     "exception": false,
     "start_time": "2023-07-04T07:52:34.568727",
     "status": "completed"
    },
    "tags": []
   },
   "outputs": [],
   "source": [
    "sm=SMOTE()\n",
    "x_train,y_train=sm.fit_resample(x_train,y_train)"
   ]
  },
  {
   "cell_type": "code",
   "execution_count": 37,
   "id": "ce1ccf09",
   "metadata": {
    "execution": {
     "iopub.execute_input": "2023-07-04T07:52:34.672411Z",
     "iopub.status.busy": "2023-07-04T07:52:34.671999Z",
     "iopub.status.idle": "2023-07-04T07:52:34.692869Z",
     "shell.execute_reply": "2023-07-04T07:52:34.691692Z"
    },
    "papermill": {
     "duration": 0.052316,
     "end_time": "2023-07-04T07:52:34.695348",
     "exception": false,
     "start_time": "2023-07-04T07:52:34.643032",
     "status": "completed"
    },
    "tags": []
   },
   "outputs": [
    {
     "data": {
      "text/html": [
       "<div>\n",
       "<style scoped>\n",
       "    .dataframe tbody tr th:only-of-type {\n",
       "        vertical-align: middle;\n",
       "    }\n",
       "\n",
       "    .dataframe tbody tr th {\n",
       "        vertical-align: top;\n",
       "    }\n",
       "\n",
       "    .dataframe thead th {\n",
       "        text-align: right;\n",
       "    }\n",
       "</style>\n",
       "<table border=\"1\" class=\"dataframe\">\n",
       "  <thead>\n",
       "    <tr style=\"text-align: right;\">\n",
       "      <th></th>\n",
       "      <th>magnitude</th>\n",
       "      <th>cdi</th>\n",
       "      <th>mmi</th>\n",
       "      <th>sig</th>\n",
       "      <th>nst</th>\n",
       "      <th>dmin</th>\n",
       "      <th>gap</th>\n",
       "      <th>depth</th>\n",
       "      <th>latitude</th>\n",
       "      <th>longitude</th>\n",
       "      <th>Year</th>\n",
       "      <th>Month</th>\n",
       "      <th>magType</th>\n",
       "    </tr>\n",
       "  </thead>\n",
       "  <tbody>\n",
       "    <tr>\n",
       "      <th>0</th>\n",
       "      <td>1.479856</td>\n",
       "      <td>-1.368018</td>\n",
       "      <td>0.708588</td>\n",
       "      <td>0.058621</td>\n",
       "      <td>0.670922</td>\n",
       "      <td>-0.597892</td>\n",
       "      <td>-1.034260</td>\n",
       "      <td>-0.312584</td>\n",
       "      <td>-0.772599</td>\n",
       "      <td>-1.058246</td>\n",
       "      <td>-1.850542</td>\n",
       "      <td>0.044527</td>\n",
       "      <td>-0.378850</td>\n",
       "    </tr>\n",
       "    <tr>\n",
       "      <th>1</th>\n",
       "      <td>0.132235</td>\n",
       "      <td>-0.105356</td>\n",
       "      <td>0.024494</td>\n",
       "      <td>-0.341678</td>\n",
       "      <td>-0.920899</td>\n",
       "      <td>0.016345</td>\n",
       "      <td>-0.538588</td>\n",
       "      <td>3.470948</td>\n",
       "      <td>-0.397087</td>\n",
       "      <td>0.593479</td>\n",
       "      <td>0.446220</td>\n",
       "      <td>-1.406321</td>\n",
       "      <td>0.589322</td>\n",
       "    </tr>\n",
       "    <tr>\n",
       "      <th>2</th>\n",
       "      <td>1.255252</td>\n",
       "      <td>1.157305</td>\n",
       "      <td>1.392681</td>\n",
       "      <td>0.694756</td>\n",
       "      <td>-0.920899</td>\n",
       "      <td>1.634918</td>\n",
       "      <td>0.617979</td>\n",
       "      <td>0.365311</td>\n",
       "      <td>-0.294214</td>\n",
       "      <td>-1.098722</td>\n",
       "      <td>1.430546</td>\n",
       "      <td>1.205206</td>\n",
       "      <td>0.589322</td>\n",
       "    </tr>\n",
       "    <tr>\n",
       "      <th>3</th>\n",
       "      <td>-0.766179</td>\n",
       "      <td>-0.105356</td>\n",
       "      <td>-0.659599</td>\n",
       "      <td>-0.596131</td>\n",
       "      <td>1.066877</td>\n",
       "      <td>-0.597892</td>\n",
       "      <td>-0.431193</td>\n",
       "      <td>0.110918</td>\n",
       "      <td>-0.049406</td>\n",
       "      <td>0.629992</td>\n",
       "      <td>-0.045944</td>\n",
       "      <td>0.334697</td>\n",
       "      <td>0.589322</td>\n",
       "    </tr>\n",
       "    <tr>\n",
       "      <th>4</th>\n",
       "      <td>1.479856</td>\n",
       "      <td>1.472971</td>\n",
       "      <td>0.708588</td>\n",
       "      <td>0.915075</td>\n",
       "      <td>-0.920899</td>\n",
       "      <td>-0.494166</td>\n",
       "      <td>0.452755</td>\n",
       "      <td>-0.346333</td>\n",
       "      <td>1.873633</td>\n",
       "      <td>-1.801714</td>\n",
       "      <td>1.266492</td>\n",
       "      <td>0.915036</td>\n",
       "      <td>0.589322</td>\n",
       "    </tr>\n",
       "  </tbody>\n",
       "</table>\n",
       "</div>"
      ],
      "text/plain": [
       "   magnitude       cdi       mmi       sig       nst      dmin       gap  \\\n",
       "0   1.479856 -1.368018  0.708588  0.058621  0.670922 -0.597892 -1.034260   \n",
       "1   0.132235 -0.105356  0.024494 -0.341678 -0.920899  0.016345 -0.538588   \n",
       "2   1.255252  1.157305  1.392681  0.694756 -0.920899  1.634918  0.617979   \n",
       "3  -0.766179 -0.105356 -0.659599 -0.596131  1.066877 -0.597892 -0.431193   \n",
       "4   1.479856  1.472971  0.708588  0.915075 -0.920899 -0.494166  0.452755   \n",
       "\n",
       "      depth  latitude  longitude      Year     Month   magType  \n",
       "0 -0.312584 -0.772599  -1.058246 -1.850542  0.044527 -0.378850  \n",
       "1  3.470948 -0.397087   0.593479  0.446220 -1.406321  0.589322  \n",
       "2  0.365311 -0.294214  -1.098722  1.430546  1.205206  0.589322  \n",
       "3  0.110918 -0.049406   0.629992 -0.045944  0.334697  0.589322  \n",
       "4 -0.346333  1.873633  -1.801714  1.266492  0.915036  0.589322  "
      ]
     },
     "execution_count": 37,
     "metadata": {},
     "output_type": "execute_result"
    }
   ],
   "source": [
    "x_train.head()"
   ]
  },
  {
   "cell_type": "code",
   "execution_count": 38,
   "id": "872f012c",
   "metadata": {
    "execution": {
     "iopub.execute_input": "2023-07-04T07:52:34.752419Z",
     "iopub.status.busy": "2023-07-04T07:52:34.751232Z",
     "iopub.status.idle": "2023-07-04T07:52:34.757584Z",
     "shell.execute_reply": "2023-07-04T07:52:34.756624Z"
    },
    "papermill": {
     "duration": 0.037237,
     "end_time": "2023-07-04T07:52:34.759945",
     "exception": false,
     "start_time": "2023-07-04T07:52:34.722708",
     "status": "completed"
    },
    "tags": []
   },
   "outputs": [],
   "source": [
    "models = {\n",
    "    \"Logistic regression\":LogisticRegression(),\n",
    "    \"Tree \":DecisionTreeClassifier(),\n",
    "    \"Ensambled\":RandomForestClassifier(),\n",
    "    \"xg\":xgb.XGBClassifier()\n",
    "}"
   ]
  },
  {
   "cell_type": "markdown",
   "id": "916298a4",
   "metadata": {
    "papermill": {
     "duration": 0.028391,
     "end_time": "2023-07-04T07:52:34.815790",
     "exception": false,
     "start_time": "2023-07-04T07:52:34.787399",
     "status": "completed"
    },
    "tags": []
   },
   "source": [
    "# RESULT"
   ]
  },
  {
   "cell_type": "code",
   "execution_count": 39,
   "id": "77095fec",
   "metadata": {
    "execution": {
     "iopub.execute_input": "2023-07-04T07:52:34.872707Z",
     "iopub.status.busy": "2023-07-04T07:52:34.872072Z",
     "iopub.status.idle": "2023-07-04T07:52:35.477628Z",
     "shell.execute_reply": "2023-07-04T07:52:35.476686Z"
    },
    "papermill": {
     "duration": 0.637303,
     "end_time": "2023-07-04T07:52:35.480528",
     "exception": false,
     "start_time": "2023-07-04T07:52:34.843225",
     "status": "completed"
    },
    "tags": []
   },
   "outputs": [
    {
     "name": "stdout",
     "output_type": "stream",
     "text": [
      "Model:  Logistic regression\n",
      "------------------------------\n",
      "              precision    recall  f1-score   support\n",
      "\n",
      "           0       0.93      0.75      0.83       101\n",
      "           1       0.67      0.89      0.76        56\n",
      "\n",
      "    accuracy                           0.80       157\n",
      "   macro avg       0.80      0.82      0.80       157\n",
      "weighted avg       0.83      0.80      0.81       157\n",
      "\n",
      ".........................................................|\n",
      "Model:  Tree \n",
      "------------------------------\n",
      "              precision    recall  f1-score   support\n",
      "\n",
      "           0       0.88      0.85      0.86       101\n",
      "           1       0.75      0.79      0.77        56\n",
      "\n",
      "    accuracy                           0.83       157\n",
      "   macro avg       0.81      0.82      0.81       157\n",
      "weighted avg       0.83      0.83      0.83       157\n",
      "\n",
      ".........................................................|\n",
      "Model:  Ensambled\n",
      "------------------------------\n",
      "              precision    recall  f1-score   support\n",
      "\n",
      "           0       0.93      0.83      0.88       101\n",
      "           1       0.75      0.89      0.81        56\n",
      "\n",
      "    accuracy                           0.85       157\n",
      "   macro avg       0.84      0.86      0.85       157\n",
      "weighted avg       0.87      0.85      0.86       157\n",
      "\n",
      ".........................................................|\n",
      "Model:  xg\n",
      "------------------------------\n",
      "              precision    recall  f1-score   support\n",
      "\n",
      "           0       0.96      0.88      0.92       101\n",
      "           1       0.81      0.93      0.87        56\n",
      "\n",
      "    accuracy                           0.90       157\n",
      "   macro avg       0.88      0.90      0.89       157\n",
      "weighted avg       0.91      0.90      0.90       157\n",
      "\n",
      ".........................................................|\n"
     ]
    }
   ],
   "source": [
    "for name,model in models.items():\n",
    "    model.fit(x_train,y_train)\n",
    "    p = model.predict(x_test)  \n",
    "    print(\"Model: \" , name)\n",
    "    print(\"------------------------------\")    \n",
    "    print(classification_report(y_test,p))\n",
    "    print(\".........................................................|\")"
   ]
  },
  {
   "cell_type": "markdown",
   "id": "8818af77",
   "metadata": {
    "papermill": {
     "duration": 0.027574,
     "end_time": "2023-07-04T07:52:35.537221",
     "exception": false,
     "start_time": "2023-07-04T07:52:35.509647",
     "status": "completed"
    },
    "tags": []
   },
   "source": [
    "# GRID SEARCH :HYPERPARAMETER"
   ]
  },
  {
   "cell_type": "code",
   "execution_count": 40,
   "id": "46dd0e86",
   "metadata": {
    "execution": {
     "iopub.execute_input": "2023-07-04T07:52:35.595979Z",
     "iopub.status.busy": "2023-07-04T07:52:35.595566Z",
     "iopub.status.idle": "2023-07-04T07:53:02.435187Z",
     "shell.execute_reply": "2023-07-04T07:53:02.434172Z"
    },
    "papermill": {
     "duration": 26.872438,
     "end_time": "2023-07-04T07:53:02.438167",
     "exception": false,
     "start_time": "2023-07-04T07:52:35.565729",
     "status": "completed"
    },
    "tags": []
   },
   "outputs": [
    {
     "name": "stdout",
     "output_type": "stream",
     "text": [
      "{'learning_rate': 0.01, 'max_depth': 5, 'n_estimators': 300}\n",
      "0.9429845474613685\n"
     ]
    }
   ],
   "source": [
    "# Model:  xg\n",
    "model=xgb.XGBClassifier()\n",
    "params = {\n",
    "        'n_estimators': [100, 200, 300],\n",
    "        'learning_rate': [0.01, 0.05, 0.1],\n",
    "        'max_depth': [3, 5, 7]\n",
    "        }\n",
    "grid= GridSearchCV(model, params, cv=5)\n",
    "grid.fit(x_train,y_train)\n",
    "print(grid.best_params_)\n",
    "print(grid.best_score_)"
   ]
  },
  {
   "cell_type": "code",
   "execution_count": 41,
   "id": "7a86237a",
   "metadata": {
    "execution": {
     "iopub.execute_input": "2023-07-04T07:53:02.497216Z",
     "iopub.status.busy": "2023-07-04T07:53:02.496820Z",
     "iopub.status.idle": "2023-07-04T07:53:02.847119Z",
     "shell.execute_reply": "2023-07-04T07:53:02.845857Z"
    },
    "papermill": {
     "duration": 0.383137,
     "end_time": "2023-07-04T07:53:02.850303",
     "exception": false,
     "start_time": "2023-07-04T07:53:02.467166",
     "status": "completed"
    },
    "tags": []
   },
   "outputs": [
    {
     "name": "stdout",
     "output_type": "stream",
     "text": [
      "              precision    recall  f1-score   support\n",
      "\n",
      "           0       0.98      0.83      0.90       101\n",
      "           1       0.76      0.96      0.85        56\n",
      "\n",
      "    accuracy                           0.88       157\n",
      "   macro avg       0.87      0.90      0.87       157\n",
      "weighted avg       0.90      0.88      0.88       157\n",
      "\n",
      "AxesSubplot(0.125,0.125;0.62x0.755)\n"
     ]
    },
    {
     "data": {
      "image/png": "[encoded data removed]",
      "text/plain": [
       "<Figure size 432x288 with 2 Axes>"
      ]
     },
     "metadata": {
      "needs_background": "light"
     },
     "output_type": "display_data"
    }
   ],
   "source": [
    "p = grid.predict(x_test)  \n",
    "print(classification_report(y_test,p))\n",
    "print(sns.heatmap(confusion_matrix(y_test,p),annot=True))"
   ]
  },
  {
   "cell_type": "code",
   "execution_count": 42,
   "id": "26ef806e",
   "metadata": {
    "execution": {
     "iopub.execute_input": "2023-07-04T07:53:02.909914Z",
     "iopub.status.busy": "2023-07-04T07:53:02.909480Z",
     "iopub.status.idle": "2023-07-04T08:04:43.480457Z",
     "shell.execute_reply": "2023-07-04T08:04:43.479058Z"
    },
    "papermill": {
     "duration": 700.632778,
     "end_time": "2023-07-04T08:04:43.511972",
     "exception": false,
     "start_time": "2023-07-04T07:53:02.879194",
     "status": "completed"
    },
    "tags": []
   },
   "outputs": [
    {
     "name": "stdout",
     "output_type": "stream",
     "text": [
      "{'max_depth': 7, 'max_features': 'log2', 'min_samples_leaf': 1, 'min_samples_split': 2, 'n_estimators': 200}\n",
      "0.9191346578366446\n"
     ]
    }
   ],
   "source": [
    "# Model: RandomForest\n",
    "model=RandomForestClassifier()\n",
    "params = {\n",
    "    'n_estimators': [100, 200, 300],\n",
    "    'max_depth': [3, 5, 7],\n",
    "    'min_samples_split': [2, 5, 10],\n",
    "    'min_samples_leaf': [1, 5, 10],\n",
    "    'max_features': ['auto', 'sqrt', 'log2']\n",
    "}\n",
    "\n",
    "grid= GridSearchCV(model, params, cv=5)\n",
    "grid.fit(x_train,y_train)\n",
    "print(grid.best_params_)\n",
    "print(grid.best_score_)"
   ]
  },
  {
   "cell_type": "code",
   "execution_count": 43,
   "id": "67cc3eae",
   "metadata": {
    "execution": {
     "iopub.execute_input": "2023-07-04T08:04:43.571332Z",
     "iopub.status.busy": "2023-07-04T08:04:43.570523Z",
     "iopub.status.idle": "2023-07-04T08:04:43.870069Z",
     "shell.execute_reply": "2023-07-04T08:04:43.868587Z"
    },
    "papermill": {
     "duration": 0.332757,
     "end_time": "2023-07-04T08:04:43.872704",
     "exception": false,
     "start_time": "2023-07-04T08:04:43.539947",
     "status": "completed"
    },
    "tags": []
   },
   "outputs": [
    {
     "name": "stdout",
     "output_type": "stream",
     "text": [
      "              precision    recall  f1-score   support\n",
      "\n",
      "           0       0.96      0.76      0.85       101\n",
      "           1       0.69      0.95      0.80        56\n",
      "\n",
      "    accuracy                           0.83       157\n",
      "   macro avg       0.83      0.85      0.82       157\n",
      "weighted avg       0.86      0.83      0.83       157\n",
      "\n",
      "AxesSubplot(0.125,0.125;0.62x0.755)\n"
     ]
    },
    {
     "data": {
      "image/png": "[encoded data removed]",
      "text/plain": [
       "<Figure size 432x288 with 2 Axes>"
      ]
     },
     "metadata": {
      "needs_background": "light"
     },
     "output_type": "display_data"
    }
   ],
   "source": [
    "p = grid.predict(x_test)  \n",
    "print(classification_report(y_test,p))\n",
    "print(sns.heatmap(confusion_matrix(y_test,p),annot=True))"
   ]
  },
  {
   "cell_type": "code",
   "execution_count": null,
   "id": "47f7ac19",
   "metadata": {
    "papermill": {
     "duration": 0.028862,
     "end_time": "2023-07-04T08:04:43.931293",
     "exception": false,
     "start_time": "2023-07-04T08:04:43.902431",
     "status": "completed"
    },
    "tags": []
   },
   "outputs": [],
   "source": []
  }
 ],
 "metadata": {
  "kernelspec": {
   "display_name": "Python 3",
   "language": "python",
   "name": "python3"
  },
  "language_info": {
   "codemirror_mode": {
    "name": "ipython",
    "version": 3
   },
   "file_extension": ".py",
   "mimetype": "text/x-python",
   "name": "python",
   "nbconvert_exporter": "python",
   "pygments_lexer": "ipython3",
   "version": "3.8.8"
  },
  "papermill": {
   "default_parameters": {},
   "duration": 754.344092,
   "end_time": "2023-07-04T08:04:45.186921",
   "environment_variables": {},
   "exception": null,
   "input_path": "__notebook__.ipynb",
   "output_path": "__notebook__.ipynb",
   "parameters": {},
   "start_time": "2023-07-04T07:52:10.842829",
   "version": "2.4.0"
  }
 },
 "nbformat": 4,
 "nbformat_minor": 5
}
